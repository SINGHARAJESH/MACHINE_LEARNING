{
 "cells": [
  {
   "cell_type": "markdown",
   "id": "148f24a9-5317-48aa-bdb5-307eef1c7031",
   "metadata": {},
   "source": [
    "## Artifial Intelligence"
   ]
  },
  {
   "cell_type": "markdown",
   "id": "7d319ef3-0371-47ab-a384-df688c2f58e3",
   "metadata": {},
   "source": [
    "Artificial intelligence (AI) is the basis for mimicking human intelligence processes through the creation and application of algorithms built into a dynamic computing environment. Stated simply, AI is trying to make computers think and act like humans."
   ]
  },
  {
   "cell_type": "markdown",
   "id": "7cdf3dd3-d451-4761-bdb5-e219480dbb27",
   "metadata": {},
   "source": [
    "Ex- Self Driving Cars, Robotics,Chat-gtp"
   ]
  },
  {
   "cell_type": "markdown",
   "id": "d4e389f5-2624-4520-8a03-6e2d619f9669",
   "metadata": {},
   "source": [
    "## Machine Learning"
   ]
  },
  {
   "cell_type": "markdown",
   "id": "b3393aa8-9627-41a6-a3a2-ca06c60480be",
   "metadata": {},
   "source": [
    "Machine Learning is the science (and art) of programming computers so they can\n",
    "learn from data.Machine Learning is the science (and art) of programming computers so they can\n",
    "learn from data."
   ]
  },
  {
   "cell_type": "markdown",
   "id": "81e1202a-e4af-4ac0-b267-cc2145e054ad",
   "metadata": {},
   "source": [
    "Ex- Recommendation systems, filters spam email,Speech recognition"
   ]
  },
  {
   "cell_type": "markdown",
   "id": "b6edec54-aed2-4f49-b7d8-308516bef367",
   "metadata": {},
   "source": [
    "## Deep Learning"
   ]
  },
  {
   "cell_type": "markdown",
   "id": "8c87a9e6-372b-4a2b-a207-00accb51c030",
   "metadata": {},
   "source": [
    "Deep learning is a method in artificial intelligence (AI) that teaches computers to process data in a way that is inspired by the human brain. Deep learning models can recognize complex patterns in pictures, text, sounds, and other data to produce accurate insights and predictions"
   ]
  },
  {
   "cell_type": "markdown",
   "id": "1f7e5099-6bdb-4b86-8129-ca2f4e47f781",
   "metadata": {},
   "source": [
    "Ex-Digital assistants, Voice-activated television remotes, Self-driving cars use deep learning models to automatically detect road signs and pedestrians"
   ]
  },
  {
   "cell_type": "markdown",
   "id": "fd71cae4-3c32-4654-bfb3-5224f242e348",
   "metadata": {},
   "source": [
    "## Supervised Learning"
   ]
  },
  {
   "cell_type": "markdown",
   "id": "91572617-2f3d-4c8f-b0e7-63e555e706d5",
   "metadata": {},
   "source": [
    "In Supervised Learning, the machine learns under supervision. It contains a model that is able to predict with the help of a labeled dataset. A labeled dataset is one where you already know the target answer. "
   ]
  },
  {
   "cell_type": "markdown",
   "id": "d8aa7224-8570-4232-a489-abbd1bba28ad",
   "metadata": {},
   "source": [
    "Ex- Predicting prices of a house given the features of house like size, price ,Language Translation"
   ]
  },
  {
   "cell_type": "markdown",
   "id": "c7728ee5-3925-4883-a376-f438648f16a5",
   "metadata": {},
   "source": [
    "## Unsupervised Learning"
   ]
  },
  {
   "cell_type": "markdown",
   "id": "378da91b-e78c-4023-86a2-99d78ea51582",
   "metadata": {},
   "source": [
    "unsupervised learning is a machine learning technique in which models are not supervised using training dataset. Instead, models itself find the hidden patterns and insights from the given data. It can be compared to learning which takes place in the human brain while learning new things"
   ]
  },
  {
   "cell_type": "markdown",
   "id": "b72cbed5-299c-4017-b49e-53e1cc0f3e90",
   "metadata": {},
   "source": [
    "Ex-An example of unsupervised learning is clustering similar items together in a datase,customar segmentation systems, Movie recommendation systems."
   ]
  },
  {
   "cell_type": "markdown",
   "id": "0be91584-f028-4eaf-a70c-570007e39dcf",
   "metadata": {},
   "source": [
    "## AI VS ML VS DL VS DS"
   ]
  },
  {
   "cell_type": "markdown",
   "id": "f6332596-315c-4d96-aa73-b83fb9edb803",
   "metadata": {},
   "source": [
    "ML and DL are subfields of AI that involve using statistical techniques and artificial neural networks to enable machines to learn from data, while DS is an interdisciplinary field that combines statistical and computational techniques with domain expertise to extract insights and knowledge from data"
   ]
  },
  {
   "cell_type": "markdown",
   "id": "7119f798-58d7-4e77-b9df-38d471b0b6ab",
   "metadata": {},
   "source": [
    "## SUPERVISED LEARNING VS UNSUPERVISED LEARNING AND SEMI-SUPERVISED LEARNING"
   ]
  },
  {
   "cell_type": "markdown",
   "id": "89413327-4296-4a72-a9b4-1c5fa7c1bed6",
   "metadata": {},
   "source": [
    "supervised learning uses labeled data to learn patterns and make predictions, unsupervised learning uses unlabeled data to discover structure and patterns, and semi-supervised learning combines both labeled and unlabeled data to improve predictive accuracy."
   ]
  },
  {
   "cell_type": "markdown",
   "id": "457532af-4b41-41ed-9145-7325990c3677",
   "metadata": {},
   "source": [
    "## TRAIN DATA"
   ]
  },
  {
   "cell_type": "markdown",
   "id": "073127b0-fb92-4ec8-bbb5-35cb0b9a00fa",
   "metadata": {},
   "source": [
    "In machine learning, the term \"training data\" refers to the dataset used to train a machine learning model. It is a subset of the entire dataset that the model will use to learn patterns, relationships, and generalizations from the input data to generate an output,The goal of training a machine learning model is to enable it to make accurate predictions or classifications on new, unseen data. The quality and quantity of the training data are essential factors that affect the accuracy and generalization ability of the model."
   ]
  },
  {
   "cell_type": "markdown",
   "id": "9dd7b12a-12fb-444c-bc61-5db7d658c327",
   "metadata": {},
   "source": [
    "## IMPORTANCE OF TRAIN DATA"
   ]
  },
  {
   "cell_type": "markdown",
   "id": "d8bfa302-0102-4016-b078-c3b1f8ac6fbe",
   "metadata": {},
   "source": [
    "t helps them to recognize and classify the similar objects in future, thus training data is very important for such classification. And if it is not accurate it will badly affect the model results, that can become the major reason behind the failure of AI project."
   ]
  },
  {
   "cell_type": "markdown",
   "id": "9d2b8047-cffa-4e78-909f-fb2ab81b8029",
   "metadata": {},
   "source": [
    "## TEST DATA"
   ]
  },
  {
   "cell_type": "markdown",
   "id": "9415cb5a-36ba-4a7e-981c-2b06d425756b",
   "metadata": {},
   "source": [
    "In machine learning, the term \"test data\" refers to a dataset that is used to evaluate the performance of a trained machine learning model. The test data is distinct from the training data and is not used during the training process."
   ]
  },
  {
   "cell_type": "markdown",
   "id": "46e2b6d8-1a1e-4cee-9a51-b082fec1ff06",
   "metadata": {},
   "source": [
    "## IMPORTANCE OF TEST DATA"
   ]
  },
  {
   "cell_type": "markdown",
   "id": "7d754ab9-7ee6-42c5-946e-6afd31aa0cb7",
   "metadata": {},
   "source": [
    "The purpose of using test data is to assess how well the model can generalize to new, unseen data. The test data usually consists of input variables (also known as features) and their corresponding output variables (also known as labels or targets). The model's performance is measured by comparing the predictions made by the model on the test data with the true labels,By using a separate test dataset, we can get a more accurate estimate of how well the model will perform in the real world."
   ]
  },
  {
   "cell_type": "markdown",
   "id": "521ce870-cd67-42c7-80fa-442e5c3d42b9",
   "metadata": {},
   "source": [
    "## VALIDATION SPLIT DATA"
   ]
  },
  {
   "cell_type": "markdown",
   "id": "c19b85c9-9eb9-4736-9ad9-0926a6cbdf50",
   "metadata": {},
   "source": [
    "In machine learning, \"validation split\" refers to the process of splitting the available data into training and validation datasets. The validation split is used to evaluate the performance of a model during the training process and to help prevent overfitting."
   ]
  },
  {
   "cell_type": "markdown",
   "id": "b5c4e914-e7e8-40ca-9d66-7ba52a0cb5c5",
   "metadata": {},
   "source": [
    "## IMPORTANCE OF VALIDATION SPLIT DATA"
   ]
  },
  {
   "cell_type": "markdown",
   "id": "d88d4d3e-f6ed-42fd-8e5b-99dc3623cdf2",
   "metadata": {},
   "source": [
    "Overfitting is a common problem in machine learning, where the model becomes too complex and starts to fit the training data too closely, resulting in poor performance on new, unseen data. Validation data can help prevent overfitting by providing a way to evaluate the model's performance on a separate set of data that is not used for training, In machine learning, there are often multiple models to choose from, and it can be challenging to determine which model is the best for a given task. Validation data can be used to compare the performance of different models and select the best one for the task."
   ]
  },
  {
   "cell_type": "markdown",
   "id": "eccc0a24-06cd-4634-a8df-bda528491463",
   "metadata": {},
   "source": [
    "## HOW CAN UNSUPERVISED LEARNING BE USED IN ANOMALY DETECTION"
   ]
  },
  {
   "cell_type": "markdown",
   "id": "f41cf345-bbea-40fa-a890-62b6e61d6ca6",
   "metadata": {},
   "source": [
    "Unsupervised learning can be a powerful technique for anomaly detection. Anomaly detection refers to the process of identifying rare events, observations, or patterns in data that deviate significantly from the normal behavior of the system. Here are some ways that unsupervised learning can be used for anomaly detection:\n",
    "\n",
    "Clustering: Clustering algorithms can group similar data points together and identify any outliers that do not belong to any cluster. The outliers can be considered anomalous and further investigated.\n",
    "\n",
    "Density Estimation: Density estimation techniques, such as Gaussian mixture models, can estimate the probability density function of the data. Any data points with low probabilities can be considered anomalous and flagged for further investigation.\n",
    "\n",
    "Autoencoders: Autoencoders are neural networks that are trained to reconstruct the input data. If the reconstruction error is high for a particular data point, it can be considered anomalous and flagged for further investigation.\n",
    "\n",
    "Principal Component Analysis (PCA): PCA is a dimensionality reduction technique that can identify the most significant features in the data. Any data points that are located far from the main cluster in the reduced feature space can be considered anomalous."
   ]
  },
  {
   "cell_type": "markdown",
   "id": "fc7652e2-7e24-4e72-ae9e-0ca5bb779033",
   "metadata": {},
   "source": [
    "## Here are some commonly used supervised machine learning algorithms:"
   ]
  },
  {
   "cell_type": "markdown",
   "id": "aff49da6-23e6-4102-8b7d-a847d9fc092c",
   "metadata": {},
   "source": [
    "Linear regression: used to predict continuous numerical values (regression)\n",
    "\n",
    "Logistic regression: used to classify data into discrete categories (binary classification)\n",
    "\n",
    "Decision trees: used to create a model that predicts the value of a target variable based on several input variables (classification and regression)\n",
    "\n",
    "Random forests: an ensemble method that combines multiple decision trees to improve accuracy and reduce overfitting (classification and regression)\n",
    "\n",
    "Support vector machines (SVMs): used to classify data into two or more categories by finding the best decision boundary that separates the classes (classification)\n",
    "\n",
    "Naive Bayes: a probabilistic algorithm that uses Bayes' theorem to classify data into categories based on the probability of each category (classification)\n",
    "\n",
    "K-nearest neighbors (KNN): a lazy learning algorithm that classifies new data points based on their similarity to nearby training data points (classification)\n",
    "\n",
    "Gradient Boosting: an ensemble method that sequentially adds models to minimize the error of the previous models, typically used for regression and classification.\n",
    "\n",
    "Neural networks: a class of algorithms that can learn complex non-linear relationships between inputs and outputs using multiple layers of interconnected neurons (classification and regression)"
   ]
  },
  {
   "cell_type": "code",
   "execution_count": null,
   "id": "2accc46b-b707-4812-a8d3-14b760885e52",
   "metadata": {},
   "outputs": [],
   "source": []
  }
 ],
 "metadata": {
  "kernelspec": {
   "display_name": "Python 3 (ipykernel)",
   "language": "python",
   "name": "python3"
  },
  "language_info": {
   "codemirror_mode": {
    "name": "ipython",
    "version": 3
   },
   "file_extension": ".py",
   "mimetype": "text/x-python",
   "name": "python",
   "nbconvert_exporter": "python",
   "pygments_lexer": "ipython3",
   "version": "3.10.8"
  }
 },
 "nbformat": 4,
 "nbformat_minor": 5
}
